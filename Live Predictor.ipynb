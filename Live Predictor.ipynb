{
 "cells": [
  {
   "cell_type": "code",
   "execution_count": 1,
   "metadata": {},
   "outputs": [],
   "source": [
    "import numpy as np\n",
    "from IPython.display import clear_output\n",
    "import cv2\n",
    "import os\n",
    "from PIL import Image\n",
    "from sklearn.utils import shuffle\n",
    "import tkinter as tk\n",
    "import json"
   ]
  },
  {
   "cell_type": "code",
   "execution_count": 2,
   "metadata": {},
   "outputs": [],
   "source": [
    "def relu(Z):\n",
    "    return np.maximum(0,Z)"
   ]
  },
  {
   "cell_type": "code",
   "execution_count": 3,
   "metadata": {},
   "outputs": [],
   "source": [
    "def sigmoid(Z):\n",
    "    return 1/(1+np.exp(-Z))"
   ]
  },
  {
   "cell_type": "code",
   "execution_count": 9,
   "metadata": {},
   "outputs": [],
   "source": [
    "def loadParams():\n",
    "    params = []\n",
    "    for i in range(1,6):\n",
    "        data = np.load('parameters/params'+str(i)+'.npy',allow_pickle=True)\n",
    "        data = np.ndarray.tolist(data)\n",
    "        params.append(data)\n",
    "    return params"
   ]
  },
  {
   "cell_type": "code",
   "execution_count": 10,
   "metadata": {},
   "outputs": [],
   "source": [
    "def predict(X,params):\n",
    "    confidence=[]\n",
    "    for i in range(5):\n",
    "        curr_params = params[i]\n",
    "        L = int(len(curr_params)/2)\n",
    "        A_prev = X\n",
    "        A = X\n",
    "        for l in range(1,L):\n",
    "            # Get Vars from the dict\n",
    "            W = curr_params[\"W\"+str(l)]\n",
    "            b = curr_params[\"b\"+str(l)]\n",
    "            # Compute single forward prop step\n",
    "            Z = np.dot(W,A_prev) + b\n",
    "            A = relu(Z)\n",
    "            A_prev = A\n",
    "        W = curr_params[\"W\"+str(L)]\n",
    "        b = curr_params[\"b\"+str(L)]\n",
    "        #Compute\n",
    "        Z = np.dot(W,A_prev) + b\n",
    "        A = sigmoid(Z)\n",
    "        confidence.append(A)\n",
    "    return confidence"
   ]
  },
  {
   "cell_type": "code",
   "execution_count": 11,
   "metadata": {},
   "outputs": [],
   "source": [
    "def livePredictor(params):\n",
    "    cap = cv2.VideoCapture(0)\n",
    "    cap.set(cv2.CAP_PROP_FRAME_WIDTH, 1280)\n",
    "    cap.set(cv2.CAP_PROP_FRAME_HEIGHT, 720)\n",
    "    scale_percent = 10 # percent of original size\n",
    "    width = int(1280 * scale_percent / 100)\n",
    "    height = int(720 * scale_percent / 100)\n",
    "    dim = (width, height)\n",
    "    while(True):\n",
    "        # Capture frame-by-frame\n",
    "        ret, frame = cap.read()\n",
    "        # Display the resulting frame\n",
    "        cv2.imshow('frame',frame)\n",
    "        resized = cv2.resize(frame, dim, interpolation = cv2.INTER_AREA)\n",
    "        processedFrame = processX(resized)\n",
    "        clear_output(wait=True)\n",
    "        print(predict(processedFrame, params))\n",
    "        \n",
    "        if cv2.waitKey(1) & 0xFF == ord('q'):\n",
    "            break\n",
    "    # When everything done, release the capture\n",
    "    cap.release()\n",
    "    cv2.destroyAllWindows()"
   ]
  },
  {
   "cell_type": "code",
   "execution_count": 12,
   "metadata": {},
   "outputs": [],
   "source": [
    "def processX(frame):\n",
    "    frame = frame.reshape(frame.shape[0],-1)\n",
    "    frame = frame.reshape(frame.shape[0] * frame.shape[1], 1)\n",
    "    frame = frame/255\n",
    "    return frame"
   ]
  },
  {
   "cell_type": "code",
   "execution_count": 13,
   "metadata": {},
   "outputs": [
    {
     "name": "stdout",
     "output_type": "stream",
     "text": [
      "[array([[0.06076365]]), array([[4.29148315e-12]]), array([[1.41905254e-10]]), array([[0.40695366]]), array([[0.04959349]])]\n"
     ]
    }
   ],
   "source": [
    "params = loadParams()\n",
    "livePredictor(params)"
   ]
  },
  {
   "cell_type": "code",
   "execution_count": null,
   "metadata": {},
   "outputs": [],
   "source": []
  }
 ],
 "metadata": {
  "kernelspec": {
   "display_name": "Python 3",
   "language": "python",
   "name": "python3"
  },
  "language_info": {
   "codemirror_mode": {
    "name": "ipython",
    "version": 3
   },
   "file_extension": ".py",
   "mimetype": "text/x-python",
   "name": "python",
   "nbconvert_exporter": "python",
   "pygments_lexer": "ipython3",
   "version": "3.8.2"
  }
 },
 "nbformat": 4,
 "nbformat_minor": 4
}

{
 "cells": [
  {
   "cell_type": "code",
   "execution_count": null,
   "metadata": {},
   "outputs": [],
   "source": [
    "import numpy as np\n",
    "from IPython.display import clear_output\n",
    "import cv2\n",
    "import os\n",
    "from PIL import Image\n",
    "from sklearn.utils import shuffle\n",
    "import tkinter as tk\n",
    "import json"
   ]
  },
  {
   "cell_type": "code",
   "execution_count": null,
   "metadata": {},
   "outputs": [],
   "source": [
    "def processX(frame):\n",
    "    frame = frame.reshape(frame.shape[0],-1)\n",
    "    frame = frame.reshape(frame.shape[0] * frame.shape[1], 1)\n",
    "    frame = frame/255\n",
    "    return frame"
   ]
  },
  {
   "cell_type": "code",
   "execution_count": null,
   "metadata": {},
   "outputs": [],
   "source": [
    "data = []\n",
    "y = np.loadtxt(\"training/labels.txt\",delimiter = \",\")\n",
    "y = y.reshape(y.shape[0],1)\n",
    "path = r'dataPoints/All'\n",
    "counter = 0\n",
    "scale_percent = 10 # percent of original size\n",
    "width = int(1280 * scale_percent / 100)\n",
    "height = int(720 * scale_percent / 100)\n",
    "dim = (width, height)\n",
    "files = []\n",
    "# r=root, d=directories, f = files\n",
    "for r, d, f in os.walk(path):\n",
    "    for file in f:\n",
    "        img = cv2.imread(path+'/'+file, cv2.IMREAD_UNCHANGED)\n",
    "        resized = cv2.resize(img, dim, interpolation = cv2.INTER_AREA)\n",
    "        data.append(resized)\n",
    "print(len(data))\n",
    "#Lets look at an example picture\n",
    "cv2.imshow(\"Resized image\", data[0])\n",
    "cv2.waitKey(0)\n",
    "cv2.destroyAllWindows()\n",
    "print(data[0].shape)"
   ]
  },
  {
   "cell_type": "code",
   "execution_count": null,
   "metadata": {},
   "outputs": [],
   "source": [
    "#Convert List of images to one numpy\n",
    "X_orig = np.array(data)\n",
    "#Flatten the input\n",
    "X = X_orig.reshape(X_orig.shape[0],-1).T\n",
    "X.shape\n",
    "#Standardize\n",
    "X = X/255"
   ]
  },
  {
   "cell_type": "code",
   "execution_count": null,
   "metadata": {},
   "outputs": [],
   "source": [
    "# shuffle the data\n",
    "X = X.T\n",
    "randomize = np.arange(len(X))\n",
    "np.random.shuffle(randomize)\n",
    "X = X[randomize]\n",
    "y = y[randomize]\n",
    "X = X.T"
   ]
  },
  {
   "cell_type": "code",
   "execution_count": null,
   "metadata": {},
   "outputs": [],
   "source": [
    "X.shape"
   ]
  },
  {
   "cell_type": "code",
   "execution_count": null,
   "metadata": {},
   "outputs": [],
   "source": [
    "def relu(Z):\n",
    "    return np.maximum(0,Z)"
   ]
  },
  {
   "cell_type": "code",
   "execution_count": null,
   "metadata": {},
   "outputs": [],
   "source": [
    "def sigmoid(Z):\n",
    "    return 1/(1+np.exp(-Z))"
   ]
  },
  {
   "cell_type": "code",
   "execution_count": null,
   "metadata": {},
   "outputs": [],
   "source": [
    "def reluPrime(dA, Z):\n",
    "    dZ = np.array(dA, copy = True)\n",
    "    dZ[Z <= 0] = 0\n",
    "    return dZ"
   ]
  },
  {
   "cell_type": "code",
   "execution_count": null,
   "metadata": {},
   "outputs": [],
   "source": [
    "def sigmoidPrime(dA, Z):\n",
    "    sig = sigmoid(Z)\n",
    "    return dA * sig * (1 - sig)"
   ]
  },
  {
   "cell_type": "code",
   "execution_count": null,
   "metadata": {},
   "outputs": [],
   "source": [
    "def processY(Y,num):\n",
    "    return (Y == num).astype(np.int)"
   ]
  },
  {
   "cell_type": "code",
   "execution_count": null,
   "metadata": {},
   "outputs": [],
   "source": [
    "def initParams(dims):\n",
    "    params = {}\n",
    "    #initialize the Weights and biases\n",
    "    np.random.seed(1)\n",
    "    for l in range(1,len(dims)):\n",
    "        params[\"W\" + str(l)] = np.random.randn(dims[l],dims[l-1]) * 0.01\n",
    "        params[\"b\" + str(l)] = np.zeros((dims[l],1))\n",
    "    #Assert Param sizes\n",
    "    assert(params['W' + str(l)].shape == (dims[l], dims[l-1]))\n",
    "    assert(params['b' + str(l)].shape == (dims[l], 1))\n",
    "    return params"
   ]
  },
  {
   "cell_type": "code",
   "execution_count": null,
   "metadata": {},
   "outputs": [],
   "source": [
    "def forwardProp(params,X):\n",
    "    #One cycle of Forward Prop\n",
    "    L = int(len(params)/2)\n",
    "    cache = {}\n",
    "    A_prev = X\n",
    "    A = X\n",
    "    cache[\"A0\"] = X\n",
    "    for l in range(1,L):\n",
    "        # Get Vars from the dict\n",
    "        W = params[\"W\"+str(l)]\n",
    "        b = params[\"b\"+str(l)]\n",
    "        # Compute single forward prop step\n",
    "        Z = np.dot(W,A_prev) + b\n",
    "        A = relu(Z)\n",
    "        A_prev = A\n",
    "        #store in the cache dict\n",
    "        cache[\"Z\"+str(l)] = Z\n",
    "        cache[\"A\"+str(l)] = A\n",
    "        \n",
    "    #Last Sigmoid Step\n",
    "    #Get vars\n",
    "    W = params[\"W\"+str(L)]\n",
    "    b = params[\"b\"+str(L)]\n",
    "    #Compute\n",
    "    Z = np.dot(W,A_prev) + b\n",
    "    A = sigmoid(Z)\n",
    "    #store\n",
    "    cache[\"Z\"+str(L)] = Z\n",
    "    cache[\"A\"+str(L)] = A\n",
    "    return cache,A"
   ]
  },
  {
   "cell_type": "code",
   "execution_count": null,
   "metadata": {},
   "outputs": [],
   "source": [
    "def cost(Yhat,Y):\n",
    "    #Compute the cost\n",
    "    Yhat = Yhat.T\n",
    "    m = Y.shape[0]\n",
    "    cost = (-1/m) * np.sum(np.multiply(np.log(Yhat),Y) + np.multiply(np.log(1-Yhat),(1-Y)))\n",
    "    cost = np.squeeze(cost)\n",
    "    return cost"
   ]
  },
  {
   "cell_type": "code",
   "execution_count": null,
   "metadata": {},
   "outputs": [],
   "source": [
    "def backProp(cache, params, Y, AL):\n",
    "    # initialization\n",
    "    grads = {}\n",
    "    Y = Y.reshape(AL.shape)\n",
    "    m = (Y.shape[1])\n",
    "    L = int(len(cache)/2)\n",
    "    dA = - (np.divide(Y, AL) - np.divide(1 - Y, 1 - AL))\n",
    "    ZL = cache[\"Z\"+str(L)]\n",
    "    dZ = sigmoidPrime(dA,ZL)\n",
    "    dW = (1/m) * np.dot(dZ,cache[\"A\"+str(L-1)].T)\n",
    "    db = (1/m) * np.sum(dZ,axis=1,keepdims=True)\n",
    "    dA_prev = np.dot(params[\"W\"+str(L)].T,dZ)\n",
    "    #store\n",
    "    grads[\"dW\"+str(L)] = dW\n",
    "    grads[\"db\"+str(L)] = db\n",
    "    grads[\"dA\"+str(L-1)] = dA_prev\n",
    "    \n",
    "    #For the relu function\n",
    "    for l in range(L-1,0,-1):\n",
    "        dA = grads[\"dA\"+str(l)]\n",
    "        Z = cache[\"Z\"+str(l)]\n",
    "        dZ = reluPrime(dA,Z)\n",
    "        dW = (1/m) * np.dot(dZ,cache[\"A\"+str(l-1)].T)\n",
    "        db = (1/m) * np.sum(dZ,axis=1,keepdims=True)\n",
    "        dA_prev = np.dot(params[\"W\"+str(l)].T,dZ)\n",
    "        #store em\n",
    "        grads[\"dW\"+str(l)] = dW\n",
    "        grads[\"db\"+str(l)] = db\n",
    "        grads[\"dA\"+str(l-1)] = dA_prev\n",
    "    \n",
    "    return grads"
   ]
  },
  {
   "cell_type": "code",
   "execution_count": null,
   "metadata": {},
   "outputs": [],
   "source": [
    "def updateParams(params,grads,learning_rate):\n",
    "    #update params\n",
    "    L = int(len(params)/2)\n",
    "    for l in range(L):\n",
    "        params[\"W\"+str(l+1)] = params[\"W\"+str(l+1)] - learning_rate * grads[\"dW\"+str(l+1)]\n",
    "        params[\"b\"+str(l+1)] = params[\"b\"+str(l+1)] - learning_rate * grads[\"db\"+str(l+1)]\n",
    "    return params"
   ]
  },
  {
   "cell_type": "code",
   "execution_count": null,
   "metadata": {},
   "outputs": [],
   "source": [
    "def NN_model(dims,X,Y,learning_rate,numIters):\n",
    "    #initialize Parameters\n",
    "    params = initParams(dims)\n",
    "    #now to loop\n",
    "    for i in range(numIters):\n",
    "        #forward propagation\n",
    "        cache,yHat = forwardProp(params,X)\n",
    "        #back propagation\n",
    "        grads = backProp(cache,params,Y,yHat)\n",
    "        #update parameters\n",
    "        params = updateParams(params,grads,learning_rate)\n",
    "        #print cost occasionally\n",
    "        if i%100 == 0:\n",
    "            costVal = cost(yHat,Y)\n",
    "            print(\"Cost after iteration {}: {}\".format(i, costVal))\n",
    "    return params"
   ]
  },
  {
   "cell_type": "code",
   "execution_count": null,
   "metadata": {},
   "outputs": [],
   "source": [
    "def predict(X,params):\n",
    "    confidence=[]\n",
    "    for i in range(5):\n",
    "        curr_params = params[i]\n",
    "        L = int(len(curr_params)/2)\n",
    "        A_prev = X\n",
    "        A = X\n",
    "        for l in range(1,L):\n",
    "            # Get Vars from the dict\n",
    "            W = curr_params[\"W\"+str(l)]\n",
    "            b = curr_params[\"b\"+str(l)]\n",
    "            # Compute single forward prop step\n",
    "            Z = np.dot(W,A_prev) + b\n",
    "            A = relu(Z)\n",
    "            A_prev = A\n",
    "        W = curr_params[\"W\"+str(L)]\n",
    "        b = curr_params[\"b\"+str(L)]\n",
    "        #Compute\n",
    "        Z = np.dot(W,A_prev) + b\n",
    "        A = sigmoid(Z)\n",
    "        confidence.append(A)\n",
    "    return confidence"
   ]
  },
  {
   "cell_type": "code",
   "execution_count": null,
   "metadata": {},
   "outputs": [],
   "source": [
    "def storeParams(paramsList):\n",
    "    for i in range(1,6):\n",
    "        data = paramsList[i-1]\n",
    "        np.save('parameters/params'+str(i)+'.npy',data)"
   ]
  },
  {
   "cell_type": "code",
   "execution_count": null,
   "metadata": {},
   "outputs": [],
   "source": [
    "all_Y = {}\n",
    "all_Y[\"Y1\"] = processY(y,1)\n",
    "all_Y[\"Y2\"] = processY(y,2)\n",
    "all_Y[\"Y3\"] = processY(y,3)\n",
    "all_Y[\"Y4\"] = processY(y,4)\n",
    "all_Y[\"Y5\"] = processY(y,5)\n",
    "allParams = []\n",
    "for i in range(1,6):\n",
    "    allParams.append(NN_model([27648,150,70,20,1],X,all_Y[\"Y\"+str(i)],0.03,2500))\n",
    "storeParams(allParams)"
   ]
  }
 ],
 "metadata": {
  "kernelspec": {
   "display_name": "Python 3",
   "language": "python",
   "name": "python3"
  },
  "language_info": {
   "codemirror_mode": {
    "name": "ipython",
    "version": 3
   },
   "file_extension": ".py",
   "mimetype": "text/x-python",
   "name": "python",
   "nbconvert_exporter": "python",
   "pygments_lexer": "ipython3",
   "version": "3.8.2"
  }
 },
 "nbformat": 4,
 "nbformat_minor": 4
}
